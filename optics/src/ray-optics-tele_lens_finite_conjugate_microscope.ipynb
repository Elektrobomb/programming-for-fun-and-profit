{
 "cells": [
  {
   "cell_type": "code",
   "execution_count": 1,
   "metadata": {},
   "outputs": [],
   "source": [
    "%matplotlib inline\n",
    "\n",
    "# initialization\n",
    "from rayoptics.environment import *"
   ]
  },
  {
   "cell_type": "code",
   "execution_count": null,
   "metadata": {},
   "outputs": [
    {
     "name": "stdout",
     "output_type": "stream",
     "text": [
      "              c            t        medium     mode   zdr      sd\n",
      "  Obj:     0.000000      14.1500       air             1      1.0000\n",
      "  Img:     0.000000      0.00000                       1      1.0000\n"
     ]
    }
   ],
   "source": [
    "double_lens_model = OpticalModel()\n",
    "sm = double_lens_model['seq_model']\n",
    "osp = double_lens_model['optical_spec']\n",
    "pm = double_lens_model['parax_model']\n",
    "em = double_lens_model['ele_model']\n",
    "pt = double_lens_model['part_tree']\n",
    "\n",
    "sm.do_apertures = False\n",
    "\n",
    "# Put obj at WD\n",
    "sm.gaps[0].thi = 14.15\n",
    "\n",
    "sm.list_model()\n"
   ]
  },
  {
   "cell_type": "code",
   "execution_count": null,
   "metadata": {},
   "outputs": [
    {
     "name": "stdout",
     "output_type": "stream",
     "text": [
      "aperture: object epd; value=8.0\n",
      "\n"
     ]
    }
   ],
   "source": [
    "osp.pupil.value=8.0\n",
    "listobj(osp['pupil'])\n",
    "double_lens_model.update_model()"
   ]
  },
  {
   "cell_type": "code",
   "execution_count": null,
   "metadata": {},
   "outputs": [
    {
     "name": "stdout",
     "output_type": "stream",
     "text": [
      "              c            t        medium     mode   zdr      sd\n",
      "  Obj:     0.000000      14.1500       air             1      1.0000\n",
      "    1:     0.074322      11.2000     N-SF5             1      10.000\n",
      "    2:     0.000000      2.00000       air             1      10.000\n",
      "  Img:     0.000000      0.00000                       1      1.0000\n",
      "root\n",
      "├── Object\n",
      "├── E1\n",
      "└── Image\n"
     ]
    }
   ],
   "source": [
    "# Add converging lens\n",
    "double_lens_model.add_from_file(\"../data/codv_16955.seq\", t=2)\n",
    "sm.list_model()\n",
    "pt.list_model()\n",
    "front_lens = pt.obj_by_name('E1')\n",
    "double_lens_model.flip(front_lens)\n",
    "double_lens_model.update_model()"
   ]
  },
  {
   "cell_type": "code",
   "execution_count": null,
   "metadata": {},
   "outputs": [
    {
     "name": "stdout",
     "output_type": "stream",
     "text": [
      "              c            t        medium     mode   zdr      sd\n",
      "  Obj:     0.000000      14.1500       air             1      1.0000\n",
      "    1:    -0.000000      11.2000     N-SF5             1      10.000\n",
      "    2:    -0.074322      2.00000       air             1      10.000\n",
      "    3:     0.049677      9.85724     N-SF6             1      12.500\n",
      "    4:     0.000000      11.5000       air             1      12.500\n",
      "  Img:     0.000000      0.00000                       1      1.0000\n",
      "root\n",
      "├── Object\n",
      "├── E1\n",
      "├── E2\n",
      "└── Image\n"
     ]
    }
   ],
   "source": [
    "# Add converging lens\n",
    "double_lens_model.add_from_file(\"../data/codv_16960.seq\", t=11.5)\n",
    "sm.list_model()\n",
    "pt.list_model()\n",
    "double_lens_model.update_model()"
   ]
  },
  {
   "cell_type": "code",
   "execution_count": null,
   "metadata": {},
   "outputs": [
    {
     "name": "stdout",
     "output_type": "stream",
     "text": [
      "              c            t        medium     mode   zdr      sd\n",
      "  Obj:     0.000000      14.1500       air             1      1.0000\n",
      "    1:    -0.000000      11.2000     N-SF5             1      10.000\n",
      "    2:    -0.074322      2.00000       air             1      10.000\n",
      "    3:     0.049677      9.85724     N-SF6             1      12.500\n",
      "    4:     0.000000      11.5000       air             1      12.500\n",
      "45015:    -0.106157      2.20000    N-SF11             1      5.5000\n",
      "    6:     0.000000      28.0000       air             1      1.0000\n",
      "  Img:     0.000000      0.00000                       1      1.0000\n",
      "root\n",
      "├── Object\n",
      "├── E1\n",
      "├── E2\n",
      "├── E3\n",
      "└── Image\n"
     ]
    }
   ],
   "source": [
    "# Add diverging lens\n",
    "double_lens_model.add_from_file(\"../data/CODV_45015.seq\", t=28)\n",
    "sm.list_model()\n",
    "pt.list_model()\n",
    "#div_lens = pt.obj_by_name('E2')\n",
    "#double_lens_model.flip(div_lens)\n",
    "double_lens_model.update_model()"
   ]
  },
  {
   "cell_type": "code",
   "execution_count": null,
   "metadata": {},
   "outputs": [
    {
     "data": {
      "image/png": "[encoded data removed]",
      "text/plain": [
       "<InteractiveLayout size 640x480 with 1 Axes>"
      ]
     },
     "metadata": {},
     "output_type": "display_data"
    }
   ],
   "source": [
    "layout_plt = plt.figure(FigureClass=InteractiveLayout, opt_model=double_lens_model,\n",
    "                        do_draw_rays=True, do_paraxial_layout=False).plot()"
   ]
  },
  {
   "cell_type": "code",
   "execution_count": null,
   "metadata": {},
   "outputs": [
    {
     "name": "stdout",
     "output_type": "stream",
     "text": [
      "efl               7.546\n",
      "f                 7.546\n",
      "f'                7.546\n",
      "ffl              -11.31\n",
      "pp1              -3.766\n",
      "bfl              -5.447\n",
      "ppk              -12.99\n",
      "pp sep            27.53\n",
      "f/#               4.703\n",
      "m                -2.659\n",
      "red             -0.3761\n",
      "obj_dist          14.15\n",
      "obj_ang               1\n",
      "enp_dist             -0\n",
      "enp_radius            4\n",
      "na obj           0.2827\n",
      "n obj                 1\n",
      "img_dist          14.62\n",
      "img_ht           0.6567\n",
      "exp_dist         -23.87\n",
      "exp_radius        2.668\n",
      "na img          -0.1063\n",
      "n img                 1\n",
      "optical invariant      0.06982\n"
     ]
    }
   ],
   "source": [
    "pm.first_order_data()"
   ]
  },
  {
   "cell_type": "code",
   "execution_count": 12,
   "metadata": {},
   "outputs": [
    {
     "name": "stdout",
     "output_type": "stream",
     "text": [
      "Total distance from object to image: 78.90724134245758\n",
      "Total length of the optic stack from the front lens to the image plane: 64.75724134245759\n"
     ]
    }
   ],
   "source": [
    "total_distance = sum(gap.thi for gap in sm.gaps)\n",
    "print(f\"Total distance from object to image: {total_distance}\")\n",
    "\n",
    "optic_stack_length = sum(gap.thi for gap in sm.gaps[1:])\n",
    "print(f\"Total length of the optic stack from the front lens to the image plane: {optic_stack_length}\")"
   ]
  }
 ],
 "metadata": {
  "kernelspec": {
   "display_name": "venv",
   "language": "python",
   "name": "python3"
  },
  "language_info": {
   "codemirror_mode": {
    "name": "ipython",
    "version": 3
   },
   "file_extension": ".py",
   "mimetype": "text/x-python",
   "name": "python",
   "nbconvert_exporter": "python",
   "pygments_lexer": "ipython3",
   "version": "3.12.4"
  }
 },
 "nbformat": 4,
 "nbformat_minor": 2
}
